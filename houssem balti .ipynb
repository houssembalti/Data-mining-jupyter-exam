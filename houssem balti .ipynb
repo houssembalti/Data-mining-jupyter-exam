{
 "cells": [
  {
   "cell_type": "markdown",
   "id": "88b912be",
   "metadata": {},
   "source": [
    "******************Nettoyage"
   ]
  },
  {
   "cell_type": "code",
   "execution_count": 26,
   "id": "5936a45d",
   "metadata": {},
   "outputs": [],
   "source": [
    "import numpy as np\n",
    "import pandas as pd  \n",
    "import matplotlib.pyplot as plt"
   ]
  },
  {
   "cell_type": "code",
   "execution_count": 27,
   "id": "051f8332",
   "metadata": {},
   "outputs": [],
   "source": [
    "import pandas as pd\n",
    "data=pd.read_csv(\"C:/Users/Houssem/Downloads/StudentsPerformance.csv\",header=0,sep =',')"
   ]
  },
  {
   "cell_type": "code",
   "execution_count": 28,
   "id": "fc3c2710",
   "metadata": {},
   "outputs": [
    {
     "data": {
      "text/html": [
       "<div>\n",
       "<style scoped>\n",
       "    .dataframe tbody tr th:only-of-type {\n",
       "        vertical-align: middle;\n",
       "    }\n",
       "\n",
       "    .dataframe tbody tr th {\n",
       "        vertical-align: top;\n",
       "    }\n",
       "\n",
       "    .dataframe thead th {\n",
       "        text-align: right;\n",
       "    }\n",
       "</style>\n",
       "<table border=\"1\" class=\"dataframe\">\n",
       "  <thead>\n",
       "    <tr style=\"text-align: right;\">\n",
       "      <th></th>\n",
       "      <th>gender</th>\n",
       "      <th>race/ethnicity</th>\n",
       "      <th>parental level of education</th>\n",
       "      <th>lunch</th>\n",
       "      <th>test preparation course</th>\n",
       "      <th>math score</th>\n",
       "      <th>reading score</th>\n",
       "      <th>writing score</th>\n",
       "    </tr>\n",
       "  </thead>\n",
       "  <tbody>\n",
       "    <tr>\n",
       "      <th>0</th>\n",
       "      <td>female</td>\n",
       "      <td>group B</td>\n",
       "      <td>bachelor's degree</td>\n",
       "      <td>standard</td>\n",
       "      <td>none</td>\n",
       "      <td>72</td>\n",
       "      <td>72</td>\n",
       "      <td>74</td>\n",
       "    </tr>\n",
       "    <tr>\n",
       "      <th>1</th>\n",
       "      <td>female</td>\n",
       "      <td>group C</td>\n",
       "      <td>some college</td>\n",
       "      <td>standard</td>\n",
       "      <td>completed</td>\n",
       "      <td>69</td>\n",
       "      <td>90</td>\n",
       "      <td>88</td>\n",
       "    </tr>\n",
       "    <tr>\n",
       "      <th>2</th>\n",
       "      <td>female</td>\n",
       "      <td>group B</td>\n",
       "      <td>master's degree</td>\n",
       "      <td>standard</td>\n",
       "      <td>none</td>\n",
       "      <td>90</td>\n",
       "      <td>95</td>\n",
       "      <td>93</td>\n",
       "    </tr>\n",
       "    <tr>\n",
       "      <th>3</th>\n",
       "      <td>male</td>\n",
       "      <td>group A</td>\n",
       "      <td>associate's degree</td>\n",
       "      <td>free/reduced</td>\n",
       "      <td>none</td>\n",
       "      <td>47</td>\n",
       "      <td>57</td>\n",
       "      <td>44</td>\n",
       "    </tr>\n",
       "    <tr>\n",
       "      <th>4</th>\n",
       "      <td>male</td>\n",
       "      <td>group C</td>\n",
       "      <td>some college</td>\n",
       "      <td>standard</td>\n",
       "      <td>none</td>\n",
       "      <td>76</td>\n",
       "      <td>78</td>\n",
       "      <td>75</td>\n",
       "    </tr>\n",
       "  </tbody>\n",
       "</table>\n",
       "</div>"
      ],
      "text/plain": [
       "   gender race/ethnicity parental level of education         lunch  \\\n",
       "0  female        group B           bachelor's degree      standard   \n",
       "1  female        group C                some college      standard   \n",
       "2  female        group B             master's degree      standard   \n",
       "3    male        group A          associate's degree  free/reduced   \n",
       "4    male        group C                some college      standard   \n",
       "\n",
       "  test preparation course  math score  reading score  writing score  \n",
       "0                    none          72             72             74  \n",
       "1               completed          69             90             88  \n",
       "2                    none          90             95             93  \n",
       "3                    none          47             57             44  \n",
       "4                    none          76             78             75  "
      ]
     },
     "execution_count": 28,
     "metadata": {},
     "output_type": "execute_result"
    }
   ],
   "source": [
    "data.head()"
   ]
  },
  {
   "cell_type": "code",
   "execution_count": 29,
   "id": "c766b69e",
   "metadata": {},
   "outputs": [
    {
     "name": "stdout",
     "output_type": "stream",
     "text": [
      "<class 'pandas.core.frame.DataFrame'>\n",
      "RangeIndex: 1000 entries, 0 to 999\n",
      "Data columns (total 8 columns):\n",
      " #   Column                       Non-Null Count  Dtype \n",
      "---  ------                       --------------  ----- \n",
      " 0   gender                       1000 non-null   object\n",
      " 1   race/ethnicity               1000 non-null   object\n",
      " 2   parental level of education  1000 non-null   object\n",
      " 3   lunch                        1000 non-null   object\n",
      " 4   test preparation course      1000 non-null   object\n",
      " 5   math score                   1000 non-null   int64 \n",
      " 6   reading score                1000 non-null   int64 \n",
      " 7   writing score                1000 non-null   int64 \n",
      "dtypes: int64(3), object(5)\n",
      "memory usage: 62.6+ KB\n"
     ]
    }
   ],
   "source": [
    "data.info()"
   ]
  },
  {
   "cell_type": "code",
   "execution_count": 54,
   "id": "de5d4627",
   "metadata": {},
   "outputs": [
    {
     "data": {
      "text/html": [
       "<div>\n",
       "<style scoped>\n",
       "    .dataframe tbody tr th:only-of-type {\n",
       "        vertical-align: middle;\n",
       "    }\n",
       "\n",
       "    .dataframe tbody tr th {\n",
       "        vertical-align: top;\n",
       "    }\n",
       "\n",
       "    .dataframe thead th {\n",
       "        text-align: right;\n",
       "    }\n",
       "</style>\n",
       "<table border=\"1\" class=\"dataframe\">\n",
       "  <thead>\n",
       "    <tr style=\"text-align: right;\">\n",
       "      <th></th>\n",
       "      <th>gender</th>\n",
       "      <th>race/ethnicity</th>\n",
       "      <th>parental level of education</th>\n",
       "      <th>lunch</th>\n",
       "      <th>test preparation course</th>\n",
       "      <th>math score</th>\n",
       "      <th>reading score</th>\n",
       "      <th>writing score</th>\n",
       "    </tr>\n",
       "  </thead>\n",
       "  <tbody>\n",
       "    <tr>\n",
       "      <th>count</th>\n",
       "      <td>986.000000</td>\n",
       "      <td>986.000000</td>\n",
       "      <td>986.000000</td>\n",
       "      <td>986.000000</td>\n",
       "      <td>986.000000</td>\n",
       "      <td>986.000000</td>\n",
       "      <td>986.000000</td>\n",
       "      <td>986.000000</td>\n",
       "    </tr>\n",
       "    <tr>\n",
       "      <th>mean</th>\n",
       "      <td>0.483773</td>\n",
       "      <td>3.182556</td>\n",
       "      <td>2.474645</td>\n",
       "      <td>0.651116</td>\n",
       "      <td>0.637931</td>\n",
       "      <td>66.694726</td>\n",
       "      <td>69.723124</td>\n",
       "      <td>68.648073</td>\n",
       "    </tr>\n",
       "    <tr>\n",
       "      <th>std</th>\n",
       "      <td>0.499990</td>\n",
       "      <td>1.157250</td>\n",
       "      <td>1.830887</td>\n",
       "      <td>0.476859</td>\n",
       "      <td>0.480843</td>\n",
       "      <td>14.340780</td>\n",
       "      <td>13.910716</td>\n",
       "      <td>14.427092</td>\n",
       "    </tr>\n",
       "    <tr>\n",
       "      <th>min</th>\n",
       "      <td>0.000000</td>\n",
       "      <td>1.000000</td>\n",
       "      <td>0.000000</td>\n",
       "      <td>0.000000</td>\n",
       "      <td>0.000000</td>\n",
       "      <td>27.000000</td>\n",
       "      <td>31.000000</td>\n",
       "      <td>32.000000</td>\n",
       "    </tr>\n",
       "    <tr>\n",
       "      <th>25%</th>\n",
       "      <td>0.000000</td>\n",
       "      <td>2.000000</td>\n",
       "      <td>1.000000</td>\n",
       "      <td>0.000000</td>\n",
       "      <td>0.000000</td>\n",
       "      <td>57.000000</td>\n",
       "      <td>60.000000</td>\n",
       "      <td>58.000000</td>\n",
       "    </tr>\n",
       "    <tr>\n",
       "      <th>50%</th>\n",
       "      <td>0.000000</td>\n",
       "      <td>3.000000</td>\n",
       "      <td>2.000000</td>\n",
       "      <td>1.000000</td>\n",
       "      <td>1.000000</td>\n",
       "      <td>66.500000</td>\n",
       "      <td>70.000000</td>\n",
       "      <td>69.000000</td>\n",
       "    </tr>\n",
       "    <tr>\n",
       "      <th>75%</th>\n",
       "      <td>1.000000</td>\n",
       "      <td>4.000000</td>\n",
       "      <td>4.000000</td>\n",
       "      <td>1.000000</td>\n",
       "      <td>1.000000</td>\n",
       "      <td>77.000000</td>\n",
       "      <td>80.000000</td>\n",
       "      <td>79.000000</td>\n",
       "    </tr>\n",
       "    <tr>\n",
       "      <th>max</th>\n",
       "      <td>1.000000</td>\n",
       "      <td>5.000000</td>\n",
       "      <td>5.000000</td>\n",
       "      <td>1.000000</td>\n",
       "      <td>1.000000</td>\n",
       "      <td>100.000000</td>\n",
       "      <td>100.000000</td>\n",
       "      <td>100.000000</td>\n",
       "    </tr>\n",
       "  </tbody>\n",
       "</table>\n",
       "</div>"
      ],
      "text/plain": [
       "           gender  race/ethnicity  parental level of education       lunch  \\\n",
       "count  986.000000      986.000000                   986.000000  986.000000   \n",
       "mean     0.483773        3.182556                     2.474645    0.651116   \n",
       "std      0.499990        1.157250                     1.830887    0.476859   \n",
       "min      0.000000        1.000000                     0.000000    0.000000   \n",
       "25%      0.000000        2.000000                     1.000000    0.000000   \n",
       "50%      0.000000        3.000000                     2.000000    1.000000   \n",
       "75%      1.000000        4.000000                     4.000000    1.000000   \n",
       "max      1.000000        5.000000                     5.000000    1.000000   \n",
       "\n",
       "       test preparation course  math score  reading score  writing score  \n",
       "count               986.000000  986.000000     986.000000     986.000000  \n",
       "mean                  0.637931   66.694726      69.723124      68.648073  \n",
       "std                   0.480843   14.340780      13.910716      14.427092  \n",
       "min                   0.000000   27.000000      31.000000      32.000000  \n",
       "25%                   0.000000   57.000000      60.000000      58.000000  \n",
       "50%                   1.000000   66.500000      70.000000      69.000000  \n",
       "75%                   1.000000   77.000000      80.000000      79.000000  \n",
       "max                   1.000000  100.000000     100.000000     100.000000  "
      ]
     },
     "execution_count": 54,
     "metadata": {},
     "output_type": "execute_result"
    }
   ],
   "source": [
    "data.describe()"
   ]
  },
  {
   "cell_type": "code",
   "execution_count": null,
   "id": "ef0d7564",
   "metadata": {},
   "outputs": [],
   "source": [
    "\n"
   ]
  },
  {
   "cell_type": "code",
   "execution_count": 30,
   "id": "f46821e9",
   "metadata": {},
   "outputs": [],
   "source": [
    "from sklearn.preprocessing import LabelEncoder\n",
    "#pour faire les transformation nécessaire au niveau du WIFI : de la qualitative au numérique 0,1\n",
    "lb_make = LabelEncoder()\n",
    "data[\"gender\"] = lb_make.fit_transform(data[\"gender\"])\n",
    "#female=0\n",
    "#male=1"
   ]
  },
  {
   "cell_type": "code",
   "execution_count": 31,
   "id": "6b3bcbe2",
   "metadata": {},
   "outputs": [
    {
     "data": {
      "text/html": [
       "<div>\n",
       "<style scoped>\n",
       "    .dataframe tbody tr th:only-of-type {\n",
       "        vertical-align: middle;\n",
       "    }\n",
       "\n",
       "    .dataframe tbody tr th {\n",
       "        vertical-align: top;\n",
       "    }\n",
       "\n",
       "    .dataframe thead th {\n",
       "        text-align: right;\n",
       "    }\n",
       "</style>\n",
       "<table border=\"1\" class=\"dataframe\">\n",
       "  <thead>\n",
       "    <tr style=\"text-align: right;\">\n",
       "      <th></th>\n",
       "      <th>gender</th>\n",
       "      <th>race/ethnicity</th>\n",
       "      <th>parental level of education</th>\n",
       "      <th>lunch</th>\n",
       "      <th>test preparation course</th>\n",
       "      <th>math score</th>\n",
       "      <th>reading score</th>\n",
       "      <th>writing score</th>\n",
       "    </tr>\n",
       "  </thead>\n",
       "  <tbody>\n",
       "    <tr>\n",
       "      <th>0</th>\n",
       "      <td>0</td>\n",
       "      <td>group B</td>\n",
       "      <td>bachelor's degree</td>\n",
       "      <td>standard</td>\n",
       "      <td>none</td>\n",
       "      <td>72</td>\n",
       "      <td>72</td>\n",
       "      <td>74</td>\n",
       "    </tr>\n",
       "    <tr>\n",
       "      <th>1</th>\n",
       "      <td>0</td>\n",
       "      <td>group C</td>\n",
       "      <td>some college</td>\n",
       "      <td>standard</td>\n",
       "      <td>completed</td>\n",
       "      <td>69</td>\n",
       "      <td>90</td>\n",
       "      <td>88</td>\n",
       "    </tr>\n",
       "    <tr>\n",
       "      <th>2</th>\n",
       "      <td>0</td>\n",
       "      <td>group B</td>\n",
       "      <td>master's degree</td>\n",
       "      <td>standard</td>\n",
       "      <td>none</td>\n",
       "      <td>90</td>\n",
       "      <td>95</td>\n",
       "      <td>93</td>\n",
       "    </tr>\n",
       "    <tr>\n",
       "      <th>3</th>\n",
       "      <td>1</td>\n",
       "      <td>group A</td>\n",
       "      <td>associate's degree</td>\n",
       "      <td>free/reduced</td>\n",
       "      <td>none</td>\n",
       "      <td>47</td>\n",
       "      <td>57</td>\n",
       "      <td>44</td>\n",
       "    </tr>\n",
       "    <tr>\n",
       "      <th>4</th>\n",
       "      <td>1</td>\n",
       "      <td>group C</td>\n",
       "      <td>some college</td>\n",
       "      <td>standard</td>\n",
       "      <td>none</td>\n",
       "      <td>76</td>\n",
       "      <td>78</td>\n",
       "      <td>75</td>\n",
       "    </tr>\n",
       "  </tbody>\n",
       "</table>\n",
       "</div>"
      ],
      "text/plain": [
       "   gender race/ethnicity parental level of education         lunch  \\\n",
       "0       0        group B           bachelor's degree      standard   \n",
       "1       0        group C                some college      standard   \n",
       "2       0        group B             master's degree      standard   \n",
       "3       1        group A          associate's degree  free/reduced   \n",
       "4       1        group C                some college      standard   \n",
       "\n",
       "  test preparation course  math score  reading score  writing score  \n",
       "0                    none          72             72             74  \n",
       "1               completed          69             90             88  \n",
       "2                    none          90             95             93  \n",
       "3                    none          47             57             44  \n",
       "4                    none          76             78             75  "
      ]
     },
     "execution_count": 31,
     "metadata": {},
     "output_type": "execute_result"
    }
   ],
   "source": [
    "data.head()"
   ]
  },
  {
   "cell_type": "code",
   "execution_count": 32,
   "id": "bf856f74",
   "metadata": {},
   "outputs": [
    {
     "data": {
      "image/png": "[encoded data removed]",
      "text/plain": [
       "<Figure size 432x288 with 1 Axes>"
      ]
     },
     "metadata": {},
     "output_type": "display_data"
    }
   ],
   "source": [
    "\n",
    "data['parental level of education'].value_counts().plot.pie()\n",
    "plt.show()"
   ]
  },
  {
   "cell_type": "code",
   "execution_count": 33,
   "id": "a5ee0082",
   "metadata": {},
   "outputs": [],
   "source": [
    "corres={\"group A\":1,\"group B\":2,\"group C\":3,\"group D\":4,\"group E\":5}\n",
    "data[\"race/ethnicity\"]=data[\"race/ethnicity\"].map(corres)\n",
    "#\"group A\":1,\"group B\":2,\"group C\":3,\"group D\":4,\"group E\":5"
   ]
  },
  {
   "cell_type": "code",
   "execution_count": 34,
   "id": "8b53f76c",
   "metadata": {},
   "outputs": [
    {
     "data": {
      "text/html": [
       "<div>\n",
       "<style scoped>\n",
       "    .dataframe tbody tr th:only-of-type {\n",
       "        vertical-align: middle;\n",
       "    }\n",
       "\n",
       "    .dataframe tbody tr th {\n",
       "        vertical-align: top;\n",
       "    }\n",
       "\n",
       "    .dataframe thead th {\n",
       "        text-align: right;\n",
       "    }\n",
       "</style>\n",
       "<table border=\"1\" class=\"dataframe\">\n",
       "  <thead>\n",
       "    <tr style=\"text-align: right;\">\n",
       "      <th></th>\n",
       "      <th>gender</th>\n",
       "      <th>race/ethnicity</th>\n",
       "      <th>parental level of education</th>\n",
       "      <th>lunch</th>\n",
       "      <th>test preparation course</th>\n",
       "      <th>math score</th>\n",
       "      <th>reading score</th>\n",
       "      <th>writing score</th>\n",
       "    </tr>\n",
       "  </thead>\n",
       "  <tbody>\n",
       "    <tr>\n",
       "      <th>0</th>\n",
       "      <td>0</td>\n",
       "      <td>2</td>\n",
       "      <td>bachelor's degree</td>\n",
       "      <td>standard</td>\n",
       "      <td>none</td>\n",
       "      <td>72</td>\n",
       "      <td>72</td>\n",
       "      <td>74</td>\n",
       "    </tr>\n",
       "    <tr>\n",
       "      <th>1</th>\n",
       "      <td>0</td>\n",
       "      <td>3</td>\n",
       "      <td>some college</td>\n",
       "      <td>standard</td>\n",
       "      <td>completed</td>\n",
       "      <td>69</td>\n",
       "      <td>90</td>\n",
       "      <td>88</td>\n",
       "    </tr>\n",
       "    <tr>\n",
       "      <th>2</th>\n",
       "      <td>0</td>\n",
       "      <td>2</td>\n",
       "      <td>master's degree</td>\n",
       "      <td>standard</td>\n",
       "      <td>none</td>\n",
       "      <td>90</td>\n",
       "      <td>95</td>\n",
       "      <td>93</td>\n",
       "    </tr>\n",
       "    <tr>\n",
       "      <th>3</th>\n",
       "      <td>1</td>\n",
       "      <td>1</td>\n",
       "      <td>associate's degree</td>\n",
       "      <td>free/reduced</td>\n",
       "      <td>none</td>\n",
       "      <td>47</td>\n",
       "      <td>57</td>\n",
       "      <td>44</td>\n",
       "    </tr>\n",
       "    <tr>\n",
       "      <th>4</th>\n",
       "      <td>1</td>\n",
       "      <td>3</td>\n",
       "      <td>some college</td>\n",
       "      <td>standard</td>\n",
       "      <td>none</td>\n",
       "      <td>76</td>\n",
       "      <td>78</td>\n",
       "      <td>75</td>\n",
       "    </tr>\n",
       "  </tbody>\n",
       "</table>\n",
       "</div>"
      ],
      "text/plain": [
       "   gender  race/ethnicity parental level of education         lunch  \\\n",
       "0       0               2           bachelor's degree      standard   \n",
       "1       0               3                some college      standard   \n",
       "2       0               2             master's degree      standard   \n",
       "3       1               1          associate's degree  free/reduced   \n",
       "4       1               3                some college      standard   \n",
       "\n",
       "  test preparation course  math score  reading score  writing score  \n",
       "0                    none          72             72             74  \n",
       "1               completed          69             90             88  \n",
       "2                    none          90             95             93  \n",
       "3                    none          47             57             44  \n",
       "4                    none          76             78             75  "
      ]
     },
     "execution_count": 34,
     "metadata": {},
     "output_type": "execute_result"
    }
   ],
   "source": [
    "data.head()"
   ]
  },
  {
   "cell_type": "code",
   "execution_count": 42,
   "id": "7cc0ab9b",
   "metadata": {},
   "outputs": [
    {
     "data": {
      "image/png": "[encoded data removed]",
      "text/plain": [
       "<Figure size 432x288 with 1 Axes>"
      ]
     },
     "metadata": {},
     "output_type": "display_data"
    }
   ],
   "source": [
    "\n",
    "data['parental level of education'].value_counts().plot.pie()\n",
    "plt.show()"
   ]
  },
  {
   "cell_type": "code",
   "execution_count": 38,
   "id": "479becb1",
   "metadata": {},
   "outputs": [],
   "source": [
    "from sklearn.preprocessing import LabelEncoder\n",
    "#pour faire les transformation nécessaire au niveau du WIFI : de la qualitative au numérique 0,1\n",
    "lb_make = LabelEncoder()\n",
    "data[\"test preparation course\"] = lb_make.fit_transform(data[\"test preparation course\"])\n",
    "#none:1 ,completed:0"
   ]
  },
  {
   "cell_type": "code",
   "execution_count": 36,
   "id": "7e54981d",
   "metadata": {},
   "outputs": [],
   "source": [
    "from sklearn.preprocessing import LabelEncoder\n",
    "#pour faire les transformation nécessaire au niveau du WIFI : de la qualitative au numérique 0,1\n",
    "lb_make = LabelEncoder()\n",
    "data[\"lunch\"] = lb_make.fit_transform(data[\"lunch\"])"
   ]
  },
  {
   "cell_type": "code",
   "execution_count": 41,
   "id": "2df3fd98",
   "metadata": {},
   "outputs": [],
   "source": [
    "from sklearn.preprocessing import LabelEncoder\n",
    "#pour faire les transformation nécessaire au niveau du WIFI : de la qualitative au numérique 0,1\n",
    "lb_make = LabelEncoder()\n",
    "data[\"parental level of education\"] = lb_make.fit_transform(data[\"parental level of education\"])"
   ]
  },
  {
   "cell_type": "code",
   "execution_count": 43,
   "id": "64777ea9",
   "metadata": {},
   "outputs": [
    {
     "data": {
      "text/html": [
       "<div>\n",
       "<style scoped>\n",
       "    .dataframe tbody tr th:only-of-type {\n",
       "        vertical-align: middle;\n",
       "    }\n",
       "\n",
       "    .dataframe tbody tr th {\n",
       "        vertical-align: top;\n",
       "    }\n",
       "\n",
       "    .dataframe thead th {\n",
       "        text-align: right;\n",
       "    }\n",
       "</style>\n",
       "<table border=\"1\" class=\"dataframe\">\n",
       "  <thead>\n",
       "    <tr style=\"text-align: right;\">\n",
       "      <th></th>\n",
       "      <th>gender</th>\n",
       "      <th>race/ethnicity</th>\n",
       "      <th>parental level of education</th>\n",
       "      <th>lunch</th>\n",
       "      <th>test preparation course</th>\n",
       "      <th>math score</th>\n",
       "      <th>reading score</th>\n",
       "      <th>writing score</th>\n",
       "    </tr>\n",
       "  </thead>\n",
       "  <tbody>\n",
       "    <tr>\n",
       "      <th>0</th>\n",
       "      <td>0</td>\n",
       "      <td>2</td>\n",
       "      <td>1</td>\n",
       "      <td>1</td>\n",
       "      <td>1</td>\n",
       "      <td>72</td>\n",
       "      <td>72</td>\n",
       "      <td>74</td>\n",
       "    </tr>\n",
       "    <tr>\n",
       "      <th>1</th>\n",
       "      <td>0</td>\n",
       "      <td>3</td>\n",
       "      <td>4</td>\n",
       "      <td>1</td>\n",
       "      <td>0</td>\n",
       "      <td>69</td>\n",
       "      <td>90</td>\n",
       "      <td>88</td>\n",
       "    </tr>\n",
       "    <tr>\n",
       "      <th>2</th>\n",
       "      <td>0</td>\n",
       "      <td>2</td>\n",
       "      <td>3</td>\n",
       "      <td>1</td>\n",
       "      <td>1</td>\n",
       "      <td>90</td>\n",
       "      <td>95</td>\n",
       "      <td>93</td>\n",
       "    </tr>\n",
       "    <tr>\n",
       "      <th>3</th>\n",
       "      <td>1</td>\n",
       "      <td>1</td>\n",
       "      <td>0</td>\n",
       "      <td>0</td>\n",
       "      <td>1</td>\n",
       "      <td>47</td>\n",
       "      <td>57</td>\n",
       "      <td>44</td>\n",
       "    </tr>\n",
       "    <tr>\n",
       "      <th>4</th>\n",
       "      <td>1</td>\n",
       "      <td>3</td>\n",
       "      <td>4</td>\n",
       "      <td>1</td>\n",
       "      <td>1</td>\n",
       "      <td>76</td>\n",
       "      <td>78</td>\n",
       "      <td>75</td>\n",
       "    </tr>\n",
       "  </tbody>\n",
       "</table>\n",
       "</div>"
      ],
      "text/plain": [
       "   gender  race/ethnicity  parental level of education  lunch  \\\n",
       "0       0               2                            1      1   \n",
       "1       0               3                            4      1   \n",
       "2       0               2                            3      1   \n",
       "3       1               1                            0      0   \n",
       "4       1               3                            4      1   \n",
       "\n",
       "   test preparation course  math score  reading score  writing score  \n",
       "0                        1          72             72             74  \n",
       "1                        0          69             90             88  \n",
       "2                        1          90             95             93  \n",
       "3                        1          47             57             44  \n",
       "4                        1          76             78             75  "
      ]
     },
     "execution_count": 43,
     "metadata": {},
     "output_type": "execute_result"
    }
   ],
   "source": [
    "data.head()"
   ]
  },
  {
   "cell_type": "code",
   "execution_count": 55,
   "id": "e4e42051",
   "metadata": {},
   "outputs": [],
   "source": [
    "data['writing score'] = np.where(data['writing score']>68.054, 1, 0)"
   ]
  },
  {
   "cell_type": "code",
   "execution_count": 56,
   "id": "25a46c3e",
   "metadata": {},
   "outputs": [
    {
     "data": {
      "text/html": [
       "<div>\n",
       "<style scoped>\n",
       "    .dataframe tbody tr th:only-of-type {\n",
       "        vertical-align: middle;\n",
       "    }\n",
       "\n",
       "    .dataframe tbody tr th {\n",
       "        vertical-align: top;\n",
       "    }\n",
       "\n",
       "    .dataframe thead th {\n",
       "        text-align: right;\n",
       "    }\n",
       "</style>\n",
       "<table border=\"1\" class=\"dataframe\">\n",
       "  <thead>\n",
       "    <tr style=\"text-align: right;\">\n",
       "      <th></th>\n",
       "      <th>gender</th>\n",
       "      <th>race/ethnicity</th>\n",
       "      <th>parental level of education</th>\n",
       "      <th>lunch</th>\n",
       "      <th>test preparation course</th>\n",
       "      <th>math score</th>\n",
       "      <th>reading score</th>\n",
       "      <th>writing score</th>\n",
       "    </tr>\n",
       "  </thead>\n",
       "  <tbody>\n",
       "    <tr>\n",
       "      <th>0</th>\n",
       "      <td>0</td>\n",
       "      <td>2</td>\n",
       "      <td>1</td>\n",
       "      <td>1</td>\n",
       "      <td>1</td>\n",
       "      <td>72</td>\n",
       "      <td>72</td>\n",
       "      <td>1</td>\n",
       "    </tr>\n",
       "    <tr>\n",
       "      <th>1</th>\n",
       "      <td>0</td>\n",
       "      <td>3</td>\n",
       "      <td>4</td>\n",
       "      <td>1</td>\n",
       "      <td>0</td>\n",
       "      <td>69</td>\n",
       "      <td>90</td>\n",
       "      <td>1</td>\n",
       "    </tr>\n",
       "    <tr>\n",
       "      <th>2</th>\n",
       "      <td>0</td>\n",
       "      <td>2</td>\n",
       "      <td>3</td>\n",
       "      <td>1</td>\n",
       "      <td>1</td>\n",
       "      <td>90</td>\n",
       "      <td>95</td>\n",
       "      <td>1</td>\n",
       "    </tr>\n",
       "    <tr>\n",
       "      <th>3</th>\n",
       "      <td>1</td>\n",
       "      <td>1</td>\n",
       "      <td>0</td>\n",
       "      <td>0</td>\n",
       "      <td>1</td>\n",
       "      <td>47</td>\n",
       "      <td>57</td>\n",
       "      <td>0</td>\n",
       "    </tr>\n",
       "    <tr>\n",
       "      <th>4</th>\n",
       "      <td>1</td>\n",
       "      <td>3</td>\n",
       "      <td>4</td>\n",
       "      <td>1</td>\n",
       "      <td>1</td>\n",
       "      <td>76</td>\n",
       "      <td>78</td>\n",
       "      <td>1</td>\n",
       "    </tr>\n",
       "  </tbody>\n",
       "</table>\n",
       "</div>"
      ],
      "text/plain": [
       "   gender  race/ethnicity  parental level of education  lunch  \\\n",
       "0       0               2                            1      1   \n",
       "1       0               3                            4      1   \n",
       "2       0               2                            3      1   \n",
       "3       1               1                            0      0   \n",
       "4       1               3                            4      1   \n",
       "\n",
       "   test preparation course  math score  reading score  writing score  \n",
       "0                        1          72             72              1  \n",
       "1                        0          69             90              1  \n",
       "2                        1          90             95              1  \n",
       "3                        1          47             57              0  \n",
       "4                        1          76             78              1  "
      ]
     },
     "execution_count": 56,
     "metadata": {},
     "output_type": "execute_result"
    }
   ],
   "source": [
    "data.head()"
   ]
  },
  {
   "cell_type": "markdown",
   "id": "a16e41b3",
   "metadata": {},
   "source": [
    "******************analyse descriptive***************************"
   ]
  },
  {
   "cell_type": "code",
   "execution_count": null,
   "id": "c774d4d3",
   "metadata": {},
   "outputs": [],
   "source": []
  },
  {
   "cell_type": "code",
   "execution_count": 44,
   "id": "c56f0957",
   "metadata": {},
   "outputs": [
    {
     "data": {
      "image/png": "[encoded data removed]",
      "text/plain": [
       "<Figure size 432x288 with 1 Axes>"
      ]
     },
     "metadata": {
      "needs_background": "light"
     },
     "output_type": "display_data"
    }
   ],
   "source": [
    "boxplot = data.boxplot(column=['gender'])\n",
    "import matplotlib.pyplot as plt\n",
    "plt.show()\n",
    "#gender is ok!!"
   ]
  },
  {
   "cell_type": "code",
   "execution_count": 46,
   "id": "7982bfe8",
   "metadata": {},
   "outputs": [
    {
     "data": {
      "image/png": "[encoded data removed]",
      "text/plain": [
       "<Figure size 432x288 with 1 Axes>"
      ]
     },
     "metadata": {
      "needs_background": "light"
     },
     "output_type": "display_data"
    }
   ],
   "source": [
    "boxplot = data.boxplot(column=['race/ethnicity'])\n",
    "\n",
    "plt.show()\n",
    "#race/ethnicity is ok!!"
   ]
  },
  {
   "cell_type": "code",
   "execution_count": 47,
   "id": "c6c88b83",
   "metadata": {},
   "outputs": [
    {
     "data": {
      "image/png": "[encoded data removed]",
      "text/plain": [
       "<Figure size 432x288 with 1 Axes>"
      ]
     },
     "metadata": {
      "needs_background": "light"
     },
     "output_type": "display_data"
    }
   ],
   "source": [
    "boxplot = data.boxplot(column=['parental level of education'])\n",
    "\n",
    "plt.show()"
   ]
  },
  {
   "cell_type": "code",
   "execution_count": 50,
   "id": "96a7efbc",
   "metadata": {},
   "outputs": [
    {
     "data": {
      "image/png": "[encoded data removed]",
      "text/plain": [
       "<Figure size 432x288 with 1 Axes>"
      ]
     },
     "metadata": {
      "needs_background": "light"
     },
     "output_type": "display_data"
    }
   ],
   "source": [
    "boxplot = data.boxplot(column=['math score'])\n",
    "\n",
    "plt.show()\n",
    "#outliers\n"
   ]
  },
  {
   "cell_type": "code",
   "execution_count": 49,
   "id": "de2217c0",
   "metadata": {},
   "outputs": [],
   "source": [
    "Q1 = data['math score'].quantile(0.25)\n",
    "Q3 = data['math score'].quantile(0.75)\n",
    "IQR = Q3 - Q1    #IQR is interquartile range. \n",
    "\n",
    "filter2 = (data['math score'] >= Q1 - 1.5 * IQR) & (data['math score'] <= Q3 + 1.5 *IQR)\n",
    "data=data.loc[filter2] "
   ]
  },
  {
   "cell_type": "code",
   "execution_count": 53,
   "id": "46f009ee",
   "metadata": {},
   "outputs": [
    {
     "data": {
      "image/png": "[encoded data removed]",
      "text/plain": [
       "<Figure size 432x288 with 1 Axes>"
      ]
     },
     "metadata": {
      "needs_background": "light"
     },
     "output_type": "display_data"
    }
   ],
   "source": [
    "boxplot = data.boxplot(column=['reading score'])\n",
    "\n",
    "plt.show()\n",
    "#outliers"
   ]
  },
  {
   "cell_type": "code",
   "execution_count": 52,
   "id": "ef3e6fd2",
   "metadata": {},
   "outputs": [],
   "source": [
    "Q1 = data['reading score'].quantile(0.25)\n",
    "Q3 = data['reading score'].quantile(0.75)\n",
    "IQR = Q3 - Q1    #IQR is interquartile range. \n",
    "\n",
    "filter2 = (data['reading score'] >= Q1 - 1.5 * IQR) & (data['reading score'] <= Q3 + 1.5 *IQR)\n",
    "data=data.loc[filter2] "
   ]
  },
  {
   "cell_type": "code",
   "execution_count": 57,
   "id": "3aedb721",
   "metadata": {},
   "outputs": [
    {
     "data": {
      "image/png": "[encoded data removed]",
      "text/plain": [
       "<Figure size 432x288 with 1 Axes>"
      ]
     },
     "metadata": {
      "needs_background": "light"
     },
     "output_type": "display_data"
    }
   ],
   "source": [
    "boxplot = data.boxplot(column=['writing score'])\n",
    "\n",
    "plt.show()\n",
    "#writing score is okay!!!"
   ]
  },
  {
   "cell_type": "markdown",
   "id": "1725dd3f",
   "metadata": {},
   "source": [
    "Interpretation : on a reading score et math score ont des outliers qu'on a eliminé\n",
    "    ces outliers representent qu'il ya des valeurs qui peut influencer negativement notre data . "
   ]
  },
  {
   "cell_type": "code",
   "execution_count": 58,
   "id": "c20f77d7",
   "metadata": {},
   "outputs": [
    {
     "name": "stdout",
     "output_type": "stream",
     "text": [
      "                               gender  race/ethnicity  \\\n",
      "gender                       1.000000       -0.003648   \n",
      "race/ethnicity              -0.003648        1.000000   \n",
      "parental level of education  0.002877       -0.028958   \n",
      "lunch                        0.018811        0.036425   \n",
      "test preparation course     -0.005461       -0.014281   \n",
      "math score                   0.163481        0.208966   \n",
      "reading score               -0.267108        0.134255   \n",
      "writing score               -0.279022        0.155370   \n",
      "\n",
      "                             parental level of education     lunch  \\\n",
      "gender                                          0.002877  0.018811   \n",
      "race/ethnicity                                 -0.028958  0.036425   \n",
      "parental level of education                     1.000000  0.010789   \n",
      "lunch                                           0.010789  1.000000   \n",
      "test preparation course                        -0.029466  0.024123   \n",
      "math score                                     -0.052514  0.337886   \n",
      "reading score                                  -0.059012  0.208412   \n",
      "writing score                                  -0.039954  0.190073   \n",
      "\n",
      "                             test preparation course  math score  \\\n",
      "gender                                     -0.005461    0.163481   \n",
      "race/ethnicity                             -0.014281    0.208966   \n",
      "parental level of education                -0.029466   -0.052514   \n",
      "lunch                                       0.024123    0.337886   \n",
      "test preparation course                     1.000000   -0.164597   \n",
      "math score                                 -0.164597    1.000000   \n",
      "reading score                              -0.230529    0.798881   \n",
      "writing score                              -0.251820    0.629683   \n",
      "\n",
      "                             reading score  writing score  \n",
      "gender                           -0.267108      -0.279022  \n",
      "race/ethnicity                    0.134255       0.155370  \n",
      "parental level of education      -0.059012      -0.039954  \n",
      "lunch                             0.208412       0.190073  \n",
      "test preparation course          -0.230529      -0.251820  \n",
      "math score                        0.798881       0.629683  \n",
      "reading score                     1.000000       0.774484  \n",
      "writing score                     0.774484       1.000000  \n"
     ]
    }
   ],
   "source": [
    "print(data.corr())"
   ]
  },
  {
   "cell_type": "code",
   "execution_count": 59,
   "id": "6512b060",
   "metadata": {},
   "outputs": [
    {
     "name": "stdout",
     "output_type": "stream",
     "text": [
      "Top Absolute Correlations\n",
      "math score     reading score    0.798881\n",
      "reading score  writing score    0.774484\n",
      "math score     writing score    0.629683\n",
      "dtype: float64\n"
     ]
    }
   ],
   "source": [
    "def get_redundant_pairs(df):\n",
    "    '''Get diagonal and lower triangular pairs of correlation matrix'''\n",
    "    pairs_to_drop = set()\n",
    "    cols = df.columns\n",
    "    for i in range(0, df.shape[1]):\n",
    "        for j in range(0, i+1):\n",
    "            pairs_to_drop.add((cols[i], cols[j]))\n",
    "    return pairs_to_drop\n",
    "\n",
    "def get_top_abs_correlations(df, n=5):\n",
    "    au_corr = df.corr().abs().unstack()\n",
    "    labels_to_drop = get_redundant_pairs(df)\n",
    "    au_corr = au_corr.drop(labels=labels_to_drop).sort_values(ascending=False)\n",
    "    return au_corr[0:n]\n",
    "\n",
    "print(\"Top Absolute Correlations\")\n",
    "print(get_top_abs_correlations(data, 3))"
   ]
  },
  {
   "cell_type": "code",
   "execution_count": null,
   "id": "d76e5c49",
   "metadata": {},
   "outputs": [],
   "source": []
  },
  {
   "cell_type": "markdown",
   "id": "cc38249f",
   "metadata": {},
   "source": [
    "Interpretation: math score et reading score sont correlés positivement\n",
    "    reading score writing score sont correéles : si un augmente l'autre augmente\n",
    "   ----> donc on peut eliminer l'un de deux features"
   ]
  },
  {
   "cell_type": "markdown",
   "id": "f15a9c9d",
   "metadata": {},
   "source": [
    "****ACP***************************"
   ]
  },
  {
   "cell_type": "code",
   "execution_count": 102,
   "id": "cdc34fe6",
   "metadata": {},
   "outputs": [
    {
     "data": {
      "text/plain": [
       "(100, 8)"
      ]
     },
     "execution_count": 102,
     "metadata": {},
     "output_type": "execute_result"
    }
   ],
   "source": [
    "data1=data.iloc[:100,:]\n",
    "data1.shape"
   ]
  },
  {
   "cell_type": "code",
   "execution_count": 103,
   "id": "e72bc572",
   "metadata": {},
   "outputs": [],
   "source": [
    "import sklearn.preprocessing as skp\n",
    "scaler=skp.StandardScaler()\n",
    "scaler.fit(data1) # n'est pas necissaire\n",
    "X=scaler.fit_transform(data1)"
   ]
  },
  {
   "cell_type": "code",
   "execution_count": 104,
   "id": "6446ad63",
   "metadata": {},
   "outputs": [
    {
     "data": {
      "text/plain": [
       "array([-1.02020406, -0.89789516, -0.68996836,  0.76635604,  0.62360956,\n",
       "        0.68195214,  0.40900898,  1.12815215])"
      ]
     },
     "execution_count": 104,
     "metadata": {},
     "output_type": "execute_result"
    }
   ],
   "source": [
    "X[0]"
   ]
  },
  {
   "cell_type": "code",
   "execution_count": 105,
   "id": "f2a673f6",
   "metadata": {},
   "outputs": [
    {
     "data": {
      "text/plain": [
       "PCA(n_components=2)"
      ]
     },
     "execution_count": 105,
     "metadata": {},
     "output_type": "execute_result"
    }
   ],
   "source": [
    "from sklearn.decomposition import PCA\n",
    "#n_components=5\n",
    "pca = PCA(n_components=2)\n",
    "pca.fit(X)"
   ]
  },
  {
   "cell_type": "code",
   "execution_count": 106,
   "id": "b9386f4a",
   "metadata": {},
   "outputs": [
    {
     "name": "stdout",
     "output_type": "stream",
     "text": [
      "(100, 2)\n"
     ]
    },
    {
     "data": {
      "image/png": "[encoded data removed]",
      "text/plain": [
       "<Figure size 432x288 with 1 Axes>"
      ]
     },
     "metadata": {
      "needs_background": "light"
     },
     "output_type": "display_data"
    }
   ],
   "source": [
    "import matplotlib.pyplot as plt\n",
    "X_new = pca.fit_transform(X)\n",
    "print(X_new.shape)\n",
    "plt.scatter(X_new[:, 0], X_new[:, 1], alpha=0.5)\n",
    "#plt.scatter(X[:, 2], X[:, 3], alpha=0.8)\n",
    "plt.axis('equal');\"'\"\"'\"\n",
    "plt.show()\n"
   ]
  },
  {
   "cell_type": "code",
   "execution_count": 109,
   "id": "a3df2613",
   "metadata": {},
   "outputs": [
    {
     "data": {
      "text/plain": [
       "2.9925866036583018"
      ]
     },
     "execution_count": 109,
     "metadata": {},
     "output_type": "execute_result"
    }
   ],
   "source": [
    "pca.explained_variance_"
   ]
  },
  {
   "cell_type": "code",
   "execution_count": 113,
   "id": "1817fca7",
   "metadata": {},
   "outputs": [
    {
     "data": {
      "text/plain": [
       "52.974582328299334"
      ]
     },
     "execution_count": 113,
     "metadata": {},
     "output_type": "execute_result"
    }
   ],
   "source": [
    "pca.explained_variance_ratio_.sum()*100"
   ]
  },
  {
   "cell_type": "markdown",
   "id": "e3c3da9d",
   "metadata": {},
   "source": [
    "Interpretation: notre variance est <60 donc on a pas une bonne presentation sur notre données "
   ]
  },
  {
   "cell_type": "code",
   "execution_count": null,
   "id": "793658be",
   "metadata": {},
   "outputs": [],
   "source": [
    "data_center = X "
   ]
  },
  {
   "cell_type": "markdown",
   "id": "2e7c3471",
   "metadata": {},
   "source": [
    "cov_matrix = np.cov(data_center.T)"
   ]
  },
  {
   "cell_type": "code",
   "execution_count": 114,
   "id": "52d19390",
   "metadata": {},
   "outputs": [],
   "source": [
    "eigenval, eigenvec = np.linalg.eig(cov_matrix)"
   ]
  },
  {
   "cell_type": "code",
   "execution_count": 115,
   "id": "8b7576a3",
   "metadata": {},
   "outputs": [
    {
     "data": {
      "text/plain": [
       "array([4.69200967e+00, 2.11201329e+00, 8.20597229e-01, 6.79303408e-01,\n",
       "       3.81595262e-01, 1.48842347e-01, 5.45276781e-02, 8.53852608e-18])"
      ]
     },
     "execution_count": 115,
     "metadata": {},
     "output_type": "execute_result"
    }
   ],
   "source": [
    "eigenval"
   ]
  },
  {
   "cell_type": "markdown",
   "id": "0475bc4c",
   "metadata": {},
   "source": [
    "Interpreation: d'appres kaiser(les deux premiers >1) on prend  2 compostants principale  "
   ]
  },
  {
   "cell_type": "code",
   "execution_count": 116,
   "id": "2fb897de",
   "metadata": {},
   "outputs": [
    {
     "name": "stdout",
     "output_type": "stream",
     "text": [
      "(8,)\n"
     ]
    }
   ],
   "source": [
    "print(eigenval.shape)"
   ]
  },
  {
   "cell_type": "code",
   "execution_count": 117,
   "id": "c2fe7f5b",
   "metadata": {},
   "outputs": [
    {
     "name": "stdout",
     "output_type": "stream",
     "text": [
      "8\n"
     ]
    },
    {
     "data": {
      "image/png": "[encoded data removed]",
      "text/plain": [
       "<Figure size 432x288 with 1 Axes>"
      ]
     },
     "metadata": {
      "needs_background": "light"
     },
     "output_type": "display_data"
    }
   ],
   "source": [
    "significance = [np.abs(i)*100/8 for i in eigenval]\n",
    "#Plotting the Cumulative Summation of the Explained Variance\n",
    "plt.figure()\n",
    "#XX.append(14)\n",
    "XX=[1,2,3,4,5,6,7,8]\n",
    "print(len(XX))\n",
    "plt.plot(XX, significance)\n",
    "plt.xlabel('Number of Components')\n",
    "plt.ylabel('Variance (%)') #for each component\n",
    "plt.title('Pulsar Dataset Explained Variance')\n",
    "plt.show()"
   ]
  },
  {
   "cell_type": "markdown",
   "id": "a614993e",
   "metadata": {},
   "source": [
    "Interpreation : on doit prendre reelement 3 compostants principale "
   ]
  },
  {
   "cell_type": "code",
   "execution_count": 119,
   "id": "51bf119b",
   "metadata": {},
   "outputs": [
    {
     "name": "stdout",
     "output_type": "stream",
     "text": [
      "8\n",
      "8\n"
     ]
    },
    {
     "data": {
      "image/png": "[encoded data removed]",
      "text/plain": [
       "<Figure size 432x288 with 1 Axes>"
      ]
     },
     "metadata": {
      "needs_background": "light"
     },
     "output_type": "display_data"
    }
   ],
   "source": [
    "import matplotlib.pyplot as plt\n",
    "import numpy as np\n",
    "#Fitting the PCA algorithm with our Data\n",
    "pca = PCA(n_components=8).fit(X)\n",
    "print(pca.n_components_)\n",
    "print(len(pca.explained_variance_ratio_))\n",
    "#Plotting the Cumulative Summation of the Explained Variance\n",
    "plt.figure()\n",
    "XX=[1,2,3,4,5,6,7,8,9,10,11,12,13]\n",
    "plt.plot(np.cumsum(pca.explained_variance_ratio_))\n",
    "plt.xlabel('Number of Components')\n",
    "plt.ylabel('Variance (%)') #for each component\n",
    "plt.title('Pulsar Dataset Explained Variance')\n",
    "plt.show()"
   ]
  },
  {
   "cell_type": "markdown",
   "id": "ef7f7dd0",
   "metadata": {},
   "source": [
    "# Interpretation: on doit prendre  5 pc car elle presente majorité des data et apres elle on aura une presentation linéaire"
   ]
  },
  {
   "cell_type": "code",
   "execution_count": 120,
   "id": "4074c882",
   "metadata": {},
   "outputs": [],
   "source": [
    "X1=np.matmul(X,eigenvec[:,:2])"
   ]
  },
  {
   "cell_type": "code",
   "execution_count": 121,
   "id": "85155814",
   "metadata": {},
   "outputs": [
    {
     "data": {
      "image/png": "[encoded data removed]",
      "text/plain": [
       "<Figure size 432x288 with 1 Axes>"
      ]
     },
     "metadata": {
      "needs_background": "light"
     },
     "output_type": "display_data"
    }
   ],
   "source": [
    "plt.scatter(X1[:, 0], X1[:, 1])\n",
    "plt.title('Transformed Data')\n",
    "plt.axis('equal')\n",
    "plt.show()"
   ]
  },
  {
   "cell_type": "code",
   "execution_count": 122,
   "id": "035e752f",
   "metadata": {},
   "outputs": [
    {
     "name": "stdout",
     "output_type": "stream",
     "text": [
      "       CTR_1     CTR_2\n",
      "0   0.027636  0.096903\n",
      "1   0.094430  0.014105\n",
      "2   0.118229  0.049880\n",
      "3   0.093220  0.060875\n",
      "4   0.028488  0.000242\n",
      "..       ...       ...\n",
      "95  0.006795  0.010029\n",
      "96  0.000824  0.006043\n",
      "97  0.000307  0.000518\n",
      "98  0.021604  0.036338\n",
      "99  0.089492  0.028418\n",
      "\n",
      "[100 rows x 2 columns]\n"
     ]
    }
   ],
   "source": [
    "ctr = X1**2\n",
    "for j in range(2):\n",
    "    ctr[:,j] = ctr[:,j]/(15*eigenval[j])\n",
    "new_pd=pd.DataFrame({'CTR_1':ctr[:,0],'CTR_2':ctr[:,1]})\n",
    "print(new_pd)"
   ]
  },
  {
   "cell_type": "code",
   "execution_count": 123,
   "id": "c5853da9",
   "metadata": {},
   "outputs": [
    {
     "name": "stdout",
     "output_type": "stream",
     "text": [
      "(8,)\n",
      "(8, 8)\n"
     ]
    }
   ],
   "source": [
    "#préparation de la projection des variables et la création du cercle de corrélation\n",
    "#corrélation des variables avec les axes\n",
    "sqrt_eigval = np.sqrt(eigenval)\n",
    "print(sqrt_eigval.shape)\n",
    "corvar = np.zeros((8,8))\n",
    "for k in range(8):\n",
    "    #print(pca.components_[k,:].shape)\n",
    "    #p1=np.reshape(pca.components_[k,:],(14,1))\n",
    "    corvar[:,k] = eigenvec[:,k] * sqrt_eigval[k]\n",
    "    \n",
    "\n",
    "#afficher la matrice des corrélations variables x facteurs\n",
    "print(corvar.shape)"
   ]
  },
  {
   "cell_type": "code",
   "execution_count": 124,
   "id": "729aead5",
   "metadata": {},
   "outputs": [
    {
     "name": "stdout",
     "output_type": "stream",
     "text": [
      "                            id    proj_1    proj_2    proj_3\n",
      "0                       gender  0.678282  0.429327 -0.447459\n",
      "1               race/ethnicity -0.202234  0.884901  0.076101\n",
      "2  parental level of education -0.331803  0.663518 -0.516341\n",
      "3                        lunch -0.995748 -0.203937 -0.184880\n",
      "4      test preparation course  0.357847 -0.786195 -0.508081\n",
      "5                   math score -0.969298  0.047646 -0.084974\n",
      "6                reading score -1.015051 -0.028856  0.119371\n",
      "7                writing score -0.995748 -0.203937 -0.184880\n"
     ]
    }
   ],
   "source": [
    "print(pd.DataFrame({'id':data1.columns,'proj_1':corvar[:,0],'proj_2':corvar[:,1],'proj_3':corvar[:,2]}))"
   ]
  },
  {
   "cell_type": "code",
   "execution_count": 126,
   "id": "262b44d9",
   "metadata": {},
   "outputs": [
    {
     "data": {
      "image/png": "[encoded data removed]",
      "text/plain": [
       "<Figure size 576x576 with 1 Axes>"
      ]
     },
     "metadata": {
      "needs_background": "light"
     },
     "output_type": "display_data"
    }
   ],
   "source": [
    "fig, axes = plt.subplots(figsize=(8,8))\n",
    "axes.set_xlim(-1,1)\n",
    "axes.set_ylim(-1,1)\n",
    "#affichage des étiquettes (noms des variables)\n",
    "for j in range(8):\n",
    "    plt.annotate(data1.columns[j],(corvar[j,0],corvar[j,1]))\n",
    "\n",
    "#ajouter les axes\n",
    "plt.plot([-1,1],[0,0],color='silver',linestyle='-',linewidth=1)\n",
    "plt.plot([0,0],[-1,1],color='silver',linestyle='-',linewidth=1)\n",
    "plt.show()"
   ]
  },
  {
   "cell_type": "markdown",
   "id": "c5bb0f9b",
   "metadata": {},
   "source": [
    "interpretation: les variables qui sont loins de l'origin sont bien presentés \n",
    "on n a pas des variables mal presentés \n",
    "race/ethinicty et partental sont bien corellés avec pc2\n",
    "math score ,writing score et reading score sont corellés avec pc1\n",
    "Correlations: gender /parental level of education : correlation positive (angle aigue)\n",
    "Correlations: gender /race/ethinicity : correlation positive\n",
    "Correlations: gender /test preparation course : correlation positive\n",
    "Correlations: gender /math score of education : correlation negative\n",
    "Correlations: gender /writing score : correlation negative\n",
    "Correlations: gender /reading score: correlation negative\n",
    "\n",
    "\n",
    "\n",
    "\n"
   ]
  },
  {
   "cell_type": "markdown",
   "id": "223152d9",
   "metadata": {},
   "source": [
    "********************************KMEANS********************************"
   ]
  },
  {
   "cell_type": "code",
   "execution_count": 142,
   "id": "2e94106e",
   "metadata": {},
   "outputs": [],
   "source": [
    "data2=data1.iloc[:,:7]"
   ]
  },
  {
   "cell_type": "code",
   "execution_count": 143,
   "id": "077c65f7",
   "metadata": {},
   "outputs": [
    {
     "data": {
      "text/plain": [
       "(100, 7)"
      ]
     },
     "execution_count": 143,
     "metadata": {},
     "output_type": "execute_result"
    }
   ],
   "source": [
    "data2.shape"
   ]
  },
  {
   "cell_type": "code",
   "execution_count": 144,
   "id": "85d3dbe2",
   "metadata": {},
   "outputs": [],
   "source": [
    "import sklearn.preprocessing as skp\n",
    "scaler=skp.StandardScaler()\n",
    "scaler.fit(data2)\n",
    "X55=scaler.fit_transform(data2)"
   ]
  },
  {
   "cell_type": "code",
   "execution_count": 145,
   "id": "b0b5c0ac",
   "metadata": {},
   "outputs": [
    {
     "data": {
      "text/plain": [
       "array([-1.02020406, -0.04275691,  0.90226632,  0.76635604, -1.60356745,\n",
       "        0.46727676,  1.6632103 ])"
      ]
     },
     "execution_count": 145,
     "metadata": {},
     "output_type": "execute_result"
    }
   ],
   "source": [
    "X55[1]"
   ]
  },
  {
   "cell_type": "code",
   "execution_count": 146,
   "id": "cca65c55",
   "metadata": {},
   "outputs": [],
   "source": [
    "from sklearn.cluster import KMeans"
   ]
  },
  {
   "cell_type": "code",
   "execution_count": 147,
   "id": "ef1615a8",
   "metadata": {},
   "outputs": [],
   "source": [
    "kmeans = KMeans(n_clusters=2, random_state=0).fit(X55)"
   ]
  },
  {
   "cell_type": "code",
   "execution_count": 148,
   "id": "c16d7e8e",
   "metadata": {},
   "outputs": [
    {
     "data": {
      "text/plain": [
       "array([[ 0.45377497, -0.35780785, -0.15922347, -0.54179083,  0.38916988,\n",
       "        -0.93376261, -0.99921705],\n",
       "       [-0.27812015,  0.21930158,  0.09758858,  0.33206535, -0.23852347,\n",
       "         0.57230611,  0.61242336]])"
      ]
     },
     "execution_count": 148,
     "metadata": {},
     "output_type": "execute_result"
    }
   ],
   "source": [
    "kmeans.cluster_centers_"
   ]
  },
  {
   "cell_type": "code",
   "execution_count": 149,
   "id": "8995996f",
   "metadata": {},
   "outputs": [
    {
     "data": {
      "text/plain": [
       "array([1, 1, 1, 0, 1, 1, 1, 0, 1, 0, 0, 0, 1, 1, 0, 1, 1, 0, 0, 1, 1, 0,\n",
       "       1, 1, 0, 0, 1, 1, 1, 1, 1, 1, 0, 1, 1, 1, 0, 1, 0, 0, 1, 0, 0, 0,\n",
       "       0, 1, 1, 1, 1, 0, 1, 0, 1, 1, 0, 1, 0, 1, 1, 0, 0, 1, 1, 1, 0, 1,\n",
       "       0, 0, 1, 1, 0, 0, 0, 0, 1, 1, 1, 0, 0, 0, 1, 0, 1, 1, 1, 1, 1, 1,\n",
       "       0, 1, 0, 1, 1, 1, 1, 1, 1, 1, 1, 1])"
      ]
     },
     "execution_count": 149,
     "metadata": {},
     "output_type": "execute_result"
    }
   ],
   "source": [
    "kmeans.labels_"
   ]
  },
  {
   "cell_type": "code",
   "execution_count": 150,
   "id": "733bfd5f",
   "metadata": {},
   "outputs": [
    {
     "name": "stderr",
     "output_type": "stream",
     "text": [
      "C:\\Users\\Houssem\\anaconda3\\lib\\site-packages\\sklearn\\cluster\\_kmeans.py:881: UserWarning: KMeans is known to have a memory leak on Windows with MKL, when there are less chunks than available threads. You can avoid it by setting the environment variable OMP_NUM_THREADS=1.\n",
      "  warnings.warn(\n",
      "C:\\Users\\Houssem\\anaconda3\\lib\\site-packages\\sklearn\\cluster\\_kmeans.py:881: UserWarning: KMeans is known to have a memory leak on Windows with MKL, when there are less chunks than available threads. You can avoid it by setting the environment variable OMP_NUM_THREADS=1.\n",
      "  warnings.warn(\n"
     ]
    },
    {
     "data": {
      "image/png": "[encoded data removed]",
      "text/plain": [
       "<Figure size 432x288 with 1 Axes>"
      ]
     },
     "metadata": {
      "needs_background": "light"
     },
     "output_type": "display_data"
    }
   ],
   "source": [
    "# la méthode elbow qui calcule intra plus on minimise plus on optimise: on retient le premier coucude\n",
    "import matplotlib.pyplot as plt\n",
    "from scipy.spatial.distance import cdist\n",
    "distortions = []\n",
    "K = range(1,9)\n",
    "for k in K:\n",
    "    kmeanModel = KMeans(n_clusters=k).fit(data1)\n",
    "    kmeanModel.fit(data1)\n",
    "    distortions.append(sum(np.min(cdist(data1, kmeanModel.cluster_centers_, 'euclidean'), axis=1)) / data1.shape[0])\n",
    "\n",
    "# Plot the elbow\n",
    "plt.plot(K, distortions, 'bx-')\n",
    "plt.xlabel('k')\n",
    "plt.ylabel('Distortion')\n",
    "plt.title('The Elbow Method showing the optimal k')\n",
    "plt.show()\n",
    "#choisir k avant que la pente soit fixe "
   ]
  },
  {
   "cell_type": "markdown",
   "id": "3d301998",
   "metadata": {},
   "source": [
    "Interpretation: on retinet 4 comme valeur optimal pour k\n",
    "mais on va prendre 2"
   ]
  },
  {
   "cell_type": "code",
   "execution_count": 158,
   "id": "b2314035",
   "metadata": {},
   "outputs": [],
   "source": [
    "ypred=kmeans.labels_"
   ]
  },
  {
   "cell_type": "code",
   "execution_count": 154,
   "id": "e23ec6f7",
   "metadata": {},
   "outputs": [],
   "source": [
    "y=data1.iloc[:,-1]\n",
    "pd.pr"
   ]
  },
  {
   "cell_type": "code",
   "execution_count": 159,
   "id": "bb73b276",
   "metadata": {},
   "outputs": [
    {
     "data": {
      "text/html": [
       "<div>\n",
       "<style scoped>\n",
       "    .dataframe tbody tr th:only-of-type {\n",
       "        vertical-align: middle;\n",
       "    }\n",
       "\n",
       "    .dataframe tbody tr th {\n",
       "        vertical-align: top;\n",
       "    }\n",
       "\n",
       "    .dataframe thead th {\n",
       "        text-align: right;\n",
       "    }\n",
       "</style>\n",
       "<table border=\"1\" class=\"dataframe\">\n",
       "  <thead>\n",
       "    <tr style=\"text-align: right;\">\n",
       "      <th>predicted</th>\n",
       "      <th>0</th>\n",
       "      <th>1</th>\n",
       "    </tr>\n",
       "    <tr>\n",
       "      <th>actual</th>\n",
       "      <th></th>\n",
       "      <th></th>\n",
       "    </tr>\n",
       "  </thead>\n",
       "  <tbody>\n",
       "    <tr>\n",
       "      <th>0</th>\n",
       "      <td>37</td>\n",
       "      <td>19</td>\n",
       "    </tr>\n",
       "    <tr>\n",
       "      <th>1</th>\n",
       "      <td>1</td>\n",
       "      <td>43</td>\n",
       "    </tr>\n",
       "  </tbody>\n",
       "</table>\n",
       "</div>"
      ],
      "text/plain": [
       "predicted   0   1\n",
       "actual           \n",
       "0          37  19\n",
       "1           1  43"
      ]
     },
     "execution_count": 159,
     "metadata": {},
     "output_type": "execute_result"
    }
   ],
   "source": [
    "pd.crosstab(y,ypred,rownames=['actual'],colnames=['predicted'])"
   ]
  },
  {
   "cell_type": "markdown",
   "id": "f4480c20",
   "metadata": {},
   "source": [
    "interpretation:\n",
    "le segment 0 coorespond à la valeur O de l'actual 37>1\n",
    "le segment 1 correspond à la valeur 1 de l'actual  car 43>19 \n"
   ]
  }
 ],
 "metadata": {
  "kernelspec": {
   "display_name": "Python 3",
   "language": "python",
   "name": "python3"
  },
  "language_info": {
   "codemirror_mode": {
    "name": "ipython",
    "version": 3
   },
   "file_extension": ".py",
   "mimetype": "text/x-python",
   "name": "python",
   "nbconvert_exporter": "python",
   "pygments_lexer": "ipython3",
   "version": "3.8.8"
  }
 },
 "nbformat": 4,
 "nbformat_minor": 5
}
